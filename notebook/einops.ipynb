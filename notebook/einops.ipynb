{
  "nbformat": 4,
  "nbformat_minor": 0,
  "metadata": {
    "colab": {
      "name": "einops.ipynb",
      "provenance": []
    },
    "kernelspec": {
      "name": "python3",
      "display_name": "Python 3"
    },
    "language_info": {
      "name": "python"
    }
  },
  "cells": [
    {
      "cell_type": "code",
      "metadata": {
        "colab": {
          "base_uri": "https://localhost:8080/"
        },
        "id": "bPevZKO-fbxf",
        "outputId": "6fd3179c-49f3-40ab-9d3a-2c72123d368a"
      },
      "source": [
        "!pwd\n",
        "from einops import rearrange, reduce, repeat"
      ],
      "execution_count": null,
      "outputs": [
        {
          "output_type": "stream",
          "text": [
            "/content\n"
          ],
          "name": "stdout"
        }
      ]
    },
    {
      "cell_type": "code",
      "metadata": {
        "colab": {
          "base_uri": "https://localhost:8080/"
        },
        "id": "FeG7X08_friX",
        "outputId": "af6edbbf-16f2-4e56-ee3d-cb3b63cfda7c"
      },
      "source": [
        "!git clone https://github.com/arogozhnikov/einops.git"
      ],
      "execution_count": null,
      "outputs": [
        {
          "output_type": "stream",
          "text": [
            "Cloning into 'einops'...\n",
            "remote: Enumerating objects: 1295, done.\u001b[K\n",
            "remote: Counting objects: 100% (66/66), done.\u001b[K\n",
            "remote: Compressing objects: 100% (51/51), done.\u001b[K\n",
            "remote: Total 1295 (delta 29), reused 25 (delta 12), pack-reused 1229\u001b[K\n",
            "Receiving objects: 100% (1295/1295), 1.64 MiB | 8.00 MiB/s, done.\n",
            "Resolving deltas: 100% (736/736), done.\n"
          ],
          "name": "stdout"
        }
      ]
    },
    {
      "cell_type": "code",
      "metadata": {
        "colab": {
          "base_uri": "https://localhost:8080/"
        },
        "id": "Ajd4MquUgF3J",
        "outputId": "01d8b59b-2bc8-46e1-a76c-dbec2593943c"
      },
      "source": [
        "cd /content/einops/docs"
      ],
      "execution_count": null,
      "outputs": [
        {
          "output_type": "stream",
          "text": [
            "/content/einops/docs\n"
          ],
          "name": "stdout"
        }
      ]
    },
    {
      "cell_type": "code",
      "metadata": {
        "colab": {
          "base_uri": "https://localhost:8080/"
        },
        "id": "Wi5RPEO2gQGt",
        "outputId": "981db410-bdce-456a-de2b-3e5bad0c7930"
      },
      "source": [
        "!ls"
      ],
      "execution_count": null,
      "outputs": [
        {
          "output_type": "stream",
          "text": [
            "1-einops-basics.ipynb\t\t  css\t\t\t README.md\t  utils\n",
            "2-einops-for-deep-learning.ipynb  index.md\t\t resources\n",
            "api\t\t\t\t  pytorch-examples.html  source_examples\n"
          ],
          "name": "stdout"
        }
      ]
    },
    {
      "cell_type": "code",
      "metadata": {
        "id": "LMdnNX60gSnk"
      },
      "source": [
        "import numpy\n",
        "from utils import display_np_arrays_as_images\n",
        "display_np_arrays_as_images()"
      ],
      "execution_count": null,
      "outputs": []
    },
    {
      "cell_type": "code",
      "metadata": {
        "colab": {
          "base_uri": "https://localhost:8080/"
        },
        "id": "vhgV4wD_ge09",
        "outputId": "306e5be4-793c-4e9c-fcea-df9d813fb8bd"
      },
      "source": [
        "ims = numpy.load('./resources/test_images.npy', allow_pickle=False)\n",
        "print(ims.shape, ims.dtype)"
      ],
      "execution_count": null,
      "outputs": [
        {
          "output_type": "stream",
          "text": [
            "(6, 96, 96, 3) float64\n"
          ],
          "name": "stdout"
        }
      ]
    },
    {
      "cell_type": "code",
      "metadata": {
        "colab": {
          "base_uri": "https://localhost:8080/",
          "height": 113
        },
        "id": "ZGNBxa53gjCr",
        "outputId": "f85c32b0-699c-45eb-c176-acba28c79fe9"
      },
      "source": [
        "ims[0]"
      ],
      "execution_count": null,
      "outputs": [
        {
          "output_type": "execute_result",
          "data": {
            "image/png": "[encoded data removed]",
            "text/plain": [
              ""
            ]
          },
          "metadata": {
            "tags": []
          },
          "execution_count": 8
        }
      ]
    },
    {
      "cell_type": "code",
      "metadata": {
        "colab": {
          "base_uri": "https://localhost:8080/",
          "height": 113
        },
        "id": "08oH86HliBuY",
        "outputId": "757ca334-b044-48dc-d964-af1339f4be58"
      },
      "source": [
        "rearrange(ims[0], 'h w c -> w h c')"
      ],
      "execution_count": null,
      "outputs": [
        {
          "output_type": "execute_result",
          "data": {
            "image/png": "[encoded data removed]",
            "text/plain": [
              ""
            ]
          },
          "metadata": {
            "tags": []
          },
          "execution_count": 9
        }
      ]
    },
    {
      "cell_type": "code",
      "metadata": {
        "colab": {
          "base_uri": "https://localhost:8080/",
          "height": 216
        },
        "id": "ThiBoqGoiacB",
        "outputId": "0aef8e07-9c87-42dc-a60c-b1d90be1b222"
      },
      "source": [
        "ims1 =  rearrange(ims, 'b h w c -> (b h) w c')\n",
        "\n",
        "print(ims1.shape, ims1.dtype)\n",
        "ims1[19: 200]"
      ],
      "execution_count": null,
      "outputs": [
        {
          "output_type": "stream",
          "text": [
            "(576, 96, 3) float64\n"
          ],
          "name": "stdout"
        },
        {
          "output_type": "execute_result",
          "data": {
            "image/png": "[encoded data removed]",
            "text/plain": [
              ""
            ]
          },
          "metadata": {
            "tags": []
          },
          "execution_count": 27
        }
      ]
    },
    {
      "cell_type": "code",
      "metadata": {
        "colab": {
          "base_uri": "https://localhost:8080/",
          "height": 112
        },
        "id": "eMZPEdUHi08W",
        "outputId": "02df13ce-7b61-4b03-cdff-880e79b6af1a"
      },
      "source": [
        "ims2 =  rearrange(ims, 'b h w c -> h (b w) c')\n",
        "\n",
        "print(ims2.shape, ims2.dtype)\n",
        "ims2[19: 200]"
      ],
      "execution_count": null,
      "outputs": [
        {
          "output_type": "stream",
          "text": [
            "(96, 576, 3) float64\n"
          ],
          "name": "stdout"
        },
        {
          "output_type": "execute_result",
          "data": {
            "image/png": "[encoded data removed]",
            "text/plain": [
              ""
            ]
          },
          "metadata": {
            "tags": []
          },
          "execution_count": 26
        }
      ]
    },
    {
      "cell_type": "code",
      "metadata": {
        "colab": {
          "base_uri": "https://localhost:8080/"
        },
        "id": "VBsiBJ5pkdGc",
        "outputId": "a7a2908e-f447-4123-eff7-daf431d4a16f"
      },
      "source": [
        "ims3 = rearrange(ims, 'b h w c -> (b h w c)')\n",
        "ims3.shape"
      ],
      "execution_count": null,
      "outputs": [
        {
          "output_type": "execute_result",
          "data": {
            "text/plain": [
              "(165888,)"
            ]
          },
          "metadata": {
            "tags": []
          },
          "execution_count": 30
        }
      ]
    },
    {
      "cell_type": "code",
      "metadata": {
        "colab": {
          "base_uri": "https://localhost:8080/",
          "height": 52
        },
        "id": "G9HuC4JJlZsT",
        "outputId": "6c9c1c55-8b92-4b5f-d42e-024884c1ef9d"
      },
      "source": [
        "rearrange(ims, '(b1 b2) h w c -> b1 b2 h w c ', b1=2)"
      ],
      "execution_count": null,
      "outputs": [
        {
          "output_type": "stream",
          "text": [
            "<array of shape (2, 3, 96, 96, 3)>\n"
          ],
          "name": "stdout"
        },
        {
          "output_type": "execute_result",
          "data": {
            "image/png": "[encoded data removed]",
            "text/plain": [
              ""
            ]
          },
          "metadata": {
            "tags": []
          },
          "execution_count": 32
        }
      ]
    },
    {
      "cell_type": "code",
      "metadata": {
        "colab": {
          "base_uri": "https://localhost:8080/",
          "height": 209
        },
        "id": "pqm74V7emzEV",
        "outputId": "afbb604e-ab06-48da-9c40-88b90d6d59f4"
      },
      "source": [
        "rearrange(ims, '(b1 b2) h w c -> (b1 h) (b2 w) c ', b1=2)"
      ],
      "execution_count": null,
      "outputs": [
        {
          "output_type": "execute_result",
          "data": {
            "image/png": "[encoded data removed]",
            "text/plain": [
              ""
            ]
          },
          "metadata": {
            "tags": []
          },
          "execution_count": 36
        }
      ]
    },
    {
      "cell_type": "code",
      "metadata": {
        "colab": {
          "base_uri": "https://localhost:8080/",
          "height": 305
        },
        "id": "4ZNfT-Wbm_Y_",
        "outputId": "a3bcfdbb-aef8-4483-9308-50d04efe69ef"
      },
      "source": [
        "rearrange(ims, '(b1 b2) h w c -> (b2 h) (b1 w) c ', b1=2)"
      ],
      "execution_count": null,
      "outputs": [
        {
          "output_type": "execute_result",
          "data": {
            "image/png": "[encoded data removed]",
            "text/plain": [
              ""
            ]
          },
          "metadata": {
            "tags": []
          },
          "execution_count": 37
        }
      ]
    },
    {
      "cell_type": "code",
      "metadata": {
        "colab": {
          "base_uri": "https://localhost:8080/",
          "height": 209
        },
        "id": "mj9AivR1nPjJ",
        "outputId": "ec486cfc-a945-4f58-c199-07723316e809"
      },
      "source": [
        "rearrange(ims, 'b h (w w2) c -> (h w2) (b w) c', w2=2)\n",
        "#在x轴上，由于图像的连续性看起来被拉伸。"
      ],
      "execution_count": null,
      "outputs": [
        {
          "output_type": "execute_result",
          "data": {
            "image/png": "[encoded data removed]",
            "text/plain": [
              ""
            ]
          },
          "metadata": {
            "tags": []
          },
          "execution_count": 47
        }
      ]
    },
    {
      "cell_type": "code",
      "metadata": {
        "colab": {
          "base_uri": "https://localhost:8080/",
          "height": 305
        },
        "id": "tfGKKtcBpdHO",
        "outputId": "d646def7-bfb4-43fd-86bd-43ee47f459ba"
      },
      "source": [
        "rearrange(ims, 'b (h h1) w c -> (b h) (h1 w) c', h1=2)"
      ],
      "execution_count": null,
      "outputs": [
        {
          "output_type": "execute_result",
          "data": {
            "image/png": "[encoded data removed]",
            "text/plain": [
              ""
            ]
          },
          "metadata": {
            "tags": []
          },
          "execution_count": 49
        }
      ]
    },
    {
      "cell_type": "code",
      "metadata": {
        "id": "mo36LiFipy9M",
        "colab": {
          "base_uri": "https://localhost:8080/",
          "height": 113
        },
        "outputId": "d4d0a1bf-03aa-494a-a4d9-a31334ffb8a2"
      },
      "source": [
        "rearrange(ims, '(b1 b2) h w c -> h (b2 b1 w) c ', b1=2)"
      ],
      "execution_count": null,
      "outputs": [
        {
          "output_type": "execute_result",
          "data": {
            "image/png": "[encoded data removed]",
            "text/plain": [
              ""
            ]
          },
          "metadata": {
            "tags": []
          },
          "execution_count": 10
        }
      ]
    },
    {
      "cell_type": "code",
      "metadata": {
        "colab": {
          "base_uri": "https://localhost:8080/",
          "height": 113
        },
        "id": "NBvlZWjqOmIa",
        "outputId": "4f1c6178-13b7-4a00-8694-c596ac177797"
      },
      "source": [
        "reduce(ims, 'b h w c -> h w c', 'mean')"
      ],
      "execution_count": null,
      "outputs": [
        {
          "output_type": "execute_result",
          "data": {
            "image/png": "[encoded data removed]",
            "text/plain": [
              ""
            ]
          },
          "metadata": {
            "tags": []
          },
          "execution_count": 11
        }
      ]
    },
    {
      "cell_type": "code",
      "metadata": {
        "colab": {
          "base_uri": "https://localhost:8080/",
          "height": 113
        },
        "id": "_XBuvC2bQAyj",
        "outputId": "0cb13334-8b38-4f76-b01a-13c3ebf8b606"
      },
      "source": [
        "ims.mean(axis=0)"
      ],
      "execution_count": null,
      "outputs": [
        {
          "output_type": "execute_result",
          "data": {
            "image/png": "[encoded data removed]",
            "text/plain": [
              ""
            ]
          },
          "metadata": {
            "tags": []
          },
          "execution_count": 12
        }
      ]
    },
    {
      "cell_type": "code",
      "metadata": {
        "colab": {
          "base_uri": "https://localhost:8080/",
          "height": 113
        },
        "id": "3Jna38gRQFXC",
        "outputId": "2ada4f42-c3b9-4b3c-cb12-50cd21704ef2"
      },
      "source": [
        "reduce(ims, 'b h w c -> h w', 'min')"
      ],
      "execution_count": null,
      "outputs": [
        {
          "output_type": "execute_result",
          "data": {
            "image/png": "[encoded data removed]",
            "text/plain": [
              ""
            ]
          },
          "metadata": {
            "tags": []
          },
          "execution_count": 17
        }
      ]
    },
    {
      "cell_type": "code",
      "metadata": {
        "colab": {
          "base_uri": "https://localhost:8080/",
          "height": 65
        },
        "id": "KuHc5FL5Q8R8",
        "outputId": "47582903-273a-46a1-be73-329544d8b97e"
      },
      "source": [
        "reduce(ims, 'b (h h2) (w w2) c -> h (b w) c', 'mean', h2=2, w2=2)"
      ],
      "execution_count": null,
      "outputs": [
        {
          "output_type": "execute_result",
          "data": {
            "image/png": "[encoded data removed]",
            "text/plain": [
              ""
            ]
          },
          "metadata": {
            "tags": []
          },
          "execution_count": 20
        }
      ]
    },
    {
      "cell_type": "code",
      "metadata": {
        "colab": {
          "base_uri": "https://localhost:8080/",
          "height": 65
        },
        "id": "NjIJMU-zRJDF",
        "outputId": "c1668d0f-d566-4309-f85d-5d07d811d3f1"
      },
      "source": [
        "reduce(ims, 'b (h h2) (w w2) c -> h (b w) c', 'max', h2=2, w2=2)"
      ],
      "execution_count": null,
      "outputs": [
        {
          "output_type": "execute_result",
          "data": {
            "image/png": "[encoded data removed]",
            "text/plain": [
              ""
            ]
          },
          "metadata": {
            "tags": []
          },
          "execution_count": 21
        }
      ]
    },
    {
      "cell_type": "code",
      "metadata": {
        "colab": {
          "base_uri": "https://localhost:8080/",
          "height": 305
        },
        "id": "oDjL4lhcR7zc",
        "outputId": "9ac2ec78-307d-4ff1-c085-d9cd29f11370"
      },
      "source": [
        "reduce(ims, '(b1 b2) h w c -> (b2 h) (b1 w)', 'mean', b1=2)"
      ],
      "execution_count": null,
      "outputs": [
        {
          "output_type": "execute_result",
          "data": {
            "image/png": "[encoded data removed]",
            "text/plain": [
              ""
            ]
          },
          "metadata": {
            "tags": []
          },
          "execution_count": 22
        }
      ]
    }
  ]
}